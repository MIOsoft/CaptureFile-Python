{
 "cells": [
  {
   "cell_type": "markdown",
   "metadata": {},
   "source": [
    "# CaptureFile - Transactional record logging library\n",
    "\n",
    "## Overview\n",
    "\n",
    "Capture files are compressed transactional record logs and by convention use the\n",
    "extension \".capture\". Records can be appended but not modified and are\n",
    "explicitly committed to the file.\n",
    "\n",
    "Any records that are added but not committed will not be visible to other\n",
    "processes and will be lost if the process that added them stops or otherwise\n",
    "closes the capture file before committing. All records that were added between\n",
    "commits either become available together or, if the commit fails, are discarded\n",
    "together. This is true even if the file buffers were flushed to disk as the\n",
    "number of records added between commits grew.\n",
    "\n",
    "Records in a capture file are each of arbitrary length and can contain up to 4GB\n",
    "(2³² bytes) of binary data.\n",
    "\n",
    "Capture files can quickly retrieve any record by its sequential record number.\n",
    "This is true even with trillions of records.\n",
    "\n",
    "Metadata can be attached to and read from a capture file. The current metadata\n",
    "reference is replaced by any subsequent metadata writes. A metadata update is\n",
    "also transactional and will be committed together with any records that were\n",
    "added between commits.\n",
    "\n",
    "Concurrent read access is supported for multiple threads and OS processes.\n",
    "\n",
    "Only one writer is permitted at a time.\n",
    "\n",
    "This is a pure Python implementation with no dependencies beyond the Python\n",
    "standard library. Development build dependencies are listed in requirements.txt.\n",
    "\n",
    "Click here for the implementation language independent [internal details of the\n",
    "design and the data structures\n",
    "used](https://github.com/MIOsoft/CaptureFile-Python/blob/master/docs/DESIGN.md).\n",
    "\n",
    "Click here for a detailed description of the [Python CaptureFile\n",
    "API](https://github.com/MIOsoft/CaptureFile-Python/blob/master/docs/CaptureFile.CaptureFile.md).\n",
    "The detailed description covers several useful APIs and parameters that are not\n",
    "covered in the Quickstart below.\n",
    "\n",
    "To work with capture files visually, you can use the free [MIObdt](https://miosoft.com/miobdt/) application.\n",
    "\n",
    "## Install\n",
    "\n",
    "```\n",
    "pip install CaptureFile\n",
    "```\n",
    "\n",
    "## Quickstart\n",
    "\n",
    "### Example 1. Creating a new capture file and then adding and committing some records to it."
   ]
  },
  {
   "cell_type": "code",
   "execution_count": 1,
   "metadata": {},
   "outputs": [
    {
     "name": "stdout",
     "output_type": "stream",
     "text": [
      "There are 5 records in this capture file.\n"
     ]
    }
   ],
   "source": [
    "from CaptureFile import CaptureFile\n",
    "\n",
    "# in the **existing** sibling \"TempTestFiles\" folder create a new empty capture file\n",
    "cf = CaptureFile(\"../TempTestFiles/Test.capture\", to_write=True, force_new_empty_file=True)\n",
    "\n",
    "# add five records to the capture file\n",
    "cf.add_record(\"Hey this is my record 1\")\n",
    "cf.add_record(\"Hey this is my record 2\")\n",
    "cf.add_record(\"Hey this is my record 3\")\n",
    "cf.add_record(\"Hey this is my record 4\")\n",
    "cf.add_record(\"Hey this is my record 5\")\n",
    "\n",
    "# commit records to capture file\n",
    "cf.commit()\n",
    "\n",
    "print(f\"There are {cf.record_count()} records in this capture file.\")\n",
    "\n",
    "# close the capture file\n",
    "cf.close()"
   ]
  },
  {
   "cell_type": "markdown",
   "metadata": {},
   "source": [
    "### Example 2. Reading a record from the capture file created above."
   ]
  },
  {
   "cell_type": "code",
   "execution_count": 2,
   "metadata": {},
   "outputs": [
    {
     "name": "stdout",
     "output_type": "stream",
     "text": [
      "Hey this is my record 2\n"
     ]
    }
   ],
   "source": [
    "from CaptureFile import CaptureFile\n",
    "\n",
    "# open existing capture file for reading\n",
    "cf = CaptureFile(\"../TempTestFiles/Test.capture\")\n",
    "\n",
    "# retrieve the second record from the capture file\n",
    "record = cf.record_at(2)\n",
    "print(record)\n",
    "\n",
    "# close the capture file\n",
    "cf.close()"
   ]
  },
  {
   "cell_type": "markdown",
   "metadata": {},
   "source": [
    "### Example 3. Opening an existing capture file and then reading a range of records from it."
   ]
  },
  {
   "cell_type": "code",
   "execution_count": 3,
   "metadata": {},
   "outputs": [
    {
     "name": "stdout",
     "output_type": "stream",
     "text": [
      "['Hey this is my record 2', 'Hey this is my record 3']\n"
     ]
    }
   ],
   "source": [
    "from CaptureFile import CaptureFile\n",
    "\n",
    "# open existing capture file for reading\n",
    "cf = CaptureFile(\"../TempTestFiles/Test.capture\")\n",
    "\n",
    "# retrieve and print records 2 to 3\n",
    "print(cf[2:4])\n",
    "\n",
    "# close the capture file\n",
    "cf.close()"
   ]
  },
  {
   "cell_type": "markdown",
   "metadata": {},
   "source": [
    "### Example 4. Opening an existing capture file using a context manager and then iterating over all records from it."
   ]
  },
  {
   "cell_type": "code",
   "execution_count": 4,
   "metadata": {},
   "outputs": [
    {
     "name": "stdout",
     "output_type": "stream",
     "text": [
      "Hey this is my record 1\n",
      "Hey this is my record 2\n",
      "Hey this is my record 3\n",
      "Hey this is my record 4\n",
      "Hey this is my record 5\n"
     ]
    }
   ],
   "source": [
    "from CaptureFile import CaptureFile\n",
    "\n",
    "# open existing capture file for reading using a context manager\n",
    "# so no need to close the capture file\n",
    "with CaptureFile(\"../TempTestFiles/Test.capture\") as cf:\n",
    "\n",
    "    #iterate over and print all records\n",
    "    for record in iter(cf):\n",
    "        print(record)"
   ]
  }
 ],
 "metadata": {
  "interpreter": {
   "hash": "15135d96815769492892fdb8d4f7b0e3e3cbe38067d0d375847261a646107001"
  },
  "kernelspec": {
   "display_name": "Python 3.10.2 ('.venv': venv)",
   "language": "python",
   "name": "python3"
  },
  "language_info": {
   "codemirror_mode": {
    "name": "ipython",
    "version": 3
   },
   "file_extension": ".py",
   "mimetype": "text/x-python",
   "name": "python",
   "nbconvert_exporter": "python",
   "pygments_lexer": "ipython3",
   "version": "3.10.2"
  },
  "orig_nbformat": 4
 },
 "nbformat": 4,
 "nbformat_minor": 2
}
